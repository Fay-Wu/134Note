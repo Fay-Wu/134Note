{
 "cells": [
  {
   "cell_type": "markdown",
   "metadata": {},
   "source": [
    "# Lecture 14 - 5/21 Continue on the Health Data\n",
    "\n",
    "There are two files in the 134Note Repo that says **1-Fitbit-Feature-Engineering.ipynb** and **1-Feature-Engineering.ipynb**. It is the main focus of this lecture on pulling and analyzing fitbit data. The pdf version is also uploaded in DSP notes. My notes at this point can only go through the steps. If you want to have this notebook run properly. Please clone this repo: [https://github.com/evidation-health/EvidationDataScienceModule] It will contain everything you need to use.\n",
    "\n",
    "If you have your own fitbit data, you will be using that. If not, you can use the nhanes data.To download the data, please follow the steps in lab7. \n",
    "\n",
    "\n",
    "### Outline:\n",
    "    - pulling fitbit data\n",
    "    - analyzing data by training set and testing set\n",
    "\n",
    "**Note that the second notebook is too large to save, so for the one uploaded on the 134Note Repo I erased all the output. You can try to run it on your own or compare with the pdf version.**"
   ]
  },
  {
   "cell_type": "code",
   "execution_count": null,
   "metadata": {},
   "outputs": [],
   "source": []
  }
 ],
 "metadata": {
  "language_info": {
   "name": "python",
   "pygments_lexer": "ipython3"
  }
 },
 "nbformat": 4,
 "nbformat_minor": 2
}
