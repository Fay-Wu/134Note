{
 "cells": [
  {
   "cell_type": "markdown",
   "metadata": {},
   "source": [
    "# Lecture9 5/2 \n",
    "\n",
    "I set up a git hub repository for notes in jupyter notebook formats. You can find it through this link: https://github.com/Fay-Wu/134Note You can clone it to your own notebook and play with the codes."
   ]
  },
  {
   "cell_type": "markdown",
   "metadata": {},
   "source": [
    "# Web Services and Data Interfaces\n",
    "\n",
    "Data is central to data science. The ability to find and gather useful data is extremely useful. As we have seen with NBA data, things can be challenging to reverse engineer websites. We will look at other sources of data and various software terminologies around web services that provide data interfaces.\n",
    "\n",
    "\n",
    "## Frontend and Backend\n",
    "\n",
    "There are many layers to a web service we interact with everyday. Take our jupyter notebook for example. \n",
    "\n",
    "* We open the URL for the course Jupyter notebook,\n",
    "* When we enter commands into a notebook,\n",
    "* An instance of python \"kernel\" runs the line(s) of code,\n",
    "* Takes the output and sends it back to the user, and\n",
    "* The running notebook displays the output.\n",
    "\n",
    "Somethings happen in our browser, and somethings happen on the servers. What we see and what we interact with is called the __frontend__, and our requests are taken care of by the __backend__. The frontend and backend communicate using a __protocol__. So, \n",
    "\n",
    "[Wikipedia on Hypertext Transfer Protocol](https://en.wikipedia.org/wiki/Hypertext_Transfer_Protocol)\n",
    "\n",
    "* Jupyter notebook web interface is the frontend\n",
    "* Python kernel is the backend\n",
    "* The frontend and the backend communicate via http (hypertext transfer protocol).\n",
    "\n",
    "Take the example of downloading the data from NBA using `wget`.\n",
    "\n",
    "* We enter a command in the notebook containing `wget ...nba_url...`\n",
    "* The code is communicated to the python kernel\n",
    "* Python kernel executes the code (running on backend)\n",
    "* Python kernel retrieves the content from `...nba_url...`\n",
    "* The content is communicated back to the running notebook\n",
    "* Notebook interface is updated with the output\n",
    "\n",
    "### Frontend\n",
    "\n",
    "Frontend is where information is displayed, and interactions occur. Modern web browsers understand javascript. In fact, HTML, CSS, and Javascript make up the core technologies for the frontend.\n",
    "\n",
    "In the url window, enter `javascript:alert('hello')`.Any browser would work except the chrome incognito. There is a javascript engine that interprets your javascript code. Javascript language is the basis for many frontend libraries. IPython widgets (for selecting basketball players) are such examples.\n",
    "\n",
    "### Backend\n",
    "\n",
    "Backend is the business-end of web services. The backend usually is made up of a server (a real or virtual computer), an application (that interprets your requests), and a database (where information is stored). We usually do not see what goes on in the backend, and we are allowed access through service providers' means to communicate.\n",
    "\n"
   ]
  },
  {
   "cell_type": "markdown",
   "metadata": {},
   "source": [
    "## Application programming interface (API)\n",
    "\n",
    "Many web services provide interface to their \"backend\". This is a direct programmable interface to the hosting website. Although unpublished, we used NBA's API to pull JSON data by reverse engineering their site.\n",
    "\n",
    "Since web service providers thrive on selling data, and other people building on top of their data, often they provide their own API."
   ]
  },
  {
   "cell_type": "markdown",
   "metadata": {},
   "source": [
    "### One prepackaged option: `pandas_datareader`\n",
    "\n",
    "[Pandas datareader](https://pandas-datareader.readthedocs.io/en/latest/) is a package dedicated to interface with various web data sources. Its dcumentation lists that the following are the [data sources](https://pandas-datareader.readthedocs.io/en/latest/remote_data.html) `pandas_datareader` can interface with.\n",
    "\n",
    "* Google Finance\n",
    "* Morningstar\n",
    "* IEX\n",
    "* Robinhood\n",
    "* Enigma\n",
    "* [Quandl](https://www.quandl.com/)\n",
    "* [St.Louis FED (FRED)](https://fred.stlouisfed.org/)\n",
    "* Kenneth French’s data library\n",
    "* World Bank\n",
    "* OECD (Organisation for Economic Co-operation and Development)\n",
    "* Eurostat\n",
    "* Thrift Savings Plan\n",
    "* Nasdaq Trader symbol definitions\n",
    "* [Stooq](https://stooq.com/db/h/)\n",
    "* [MOEX](https://www.moex.com/en/)\n",
    "\n",
    "That is an impressive list of sources; however, since the package depends on an existing API (application programming interface), things break when the data source website (e.g. Google Finance) make changes."
   ]
  },
  {
   "cell_type": "code",
   "execution_count": null,
   "metadata": {},
   "outputs": [],
   "source": [
    "import pandas_datareader.data as web\n",
    "\n",
    "## files containing codes can be downloaded here:\n",
    "## https://help.quandl.com/article/92-how-do-i-download-the-quandl-codes-of-all-the-datasets-in-a-given-database\n",
    "## or they can be queried with API\n",
    "## quandl is a data selling bussiness, with some free data provided\n",
    "\n",
    "symbol = 'WIKI/AAPL'  # or 'AAPL.US' gives the stock info of Apple\n",
    "\n",
    "# inorder to get the symbols, go to the url : \n",
    "# https://help.quandl.com/article/92-how-do-i-download-the-quandl-codes-of-all-the-datasets-in-a-given-database\n",
    "# then you can download a zip of datasets code\n",
    "\n",
    "df = web.DataReader(symbol, 'quandl', '2013-01-01', '2015-02-01')\n",
    "df.reset_index(inplace=True)\n",
    "df.head()"
   ]
  },
  {
   "cell_type": "markdown",
   "metadata": {},
   "source": [
    "#### (Off-topic) Bokeh: Interactive visualization library\n",
    "\n",
    "Visualize the output using a more feature-rich package, [Bokeh](https://bokeh.pydata.org/en/latest/). Bokeh provides interactivity with the plots rendered in web browsers"
   ]
  },
  {
   "cell_type": "code",
   "execution_count": null,
   "metadata": {},
   "outputs": [],
   "source": [
    "from bokeh.io import push_notebook, show, output_notebook\n",
    "from bokeh.layouts import row\n",
    "from bokeh.plotting import figure\n",
    "output_notebook()"
   ]
  },
  {
   "cell_type": "markdown",
   "metadata": {},
   "source": [
    "Open, High, Low, Close (OHLC) data is often visualized with candle sticks: If you zoom into the plot (use the zoom buttom on the right), each data looks like candle stick."
   ]
  },
  {
   "cell_type": "code",
   "execution_count": null,
   "metadata": {},
   "outputs": [],
   "source": [
    "from math import pi\n",
    "\n",
    "inc = df.Close > df.Open\n",
    "dec = df.Open > df.Close\n",
    "w = 12*60*60*1000 # half day in ms\n",
    "\n",
    "p = figure(x_axis_type=\"datetime\", \n",
    "           plot_width=750, plot_height=400, \n",
    "           title = \"AAPL Candlestick\")\n",
    "\n",
    "p.segment(df.Date, df.High, df.Date, df.Low, color=\"black\") #low and high are two ends\n",
    "p.vbar(df.Date[inc], w, df.Open[inc], df.Close[inc], fill_color=\"#D5E1DD\", line_color=\"black\") \n",
    "p.vbar(df.Date[dec], w, df.Open[dec], df.Close[dec], fill_color=\"#F2583E\", line_color=\"black\")\n",
    "## two v bars(boxes), one for increasing (red), and one for decreasing (black)\n",
    "## note there is a big jump around june 2014\n",
    "show(p)"
   ]
  },
  {
   "cell_type": "code",
   "execution_count": null,
   "metadata": {},
   "outputs": [],
   "source": [
    "# Adjusted, now the huge jump is gone\n",
    "\n",
    "inc = df.AdjClose > df.AdjOpen\n",
    "dec = df.AdjOpen > df.AdjClose\n",
    "w = 12*60*60*1000 # half day in ms\n",
    "\n",
    "TOOLS = \"pan,wheel_zoom,box_zoom,reset,save\"\n",
    "\n",
    "p = figure(x_axis_type=\"datetime\", tools=TOOLS, plot_width=750, plot_height=400, title = \"AAPL Candlestick\")\n",
    "p.xaxis.major_label_orientation = pi/4\n",
    "p.grid.grid_line_alpha=0.3\n",
    "\n",
    "p.segment(df.Date, df.AdjHigh, df.Date, df.AdjLow, color=\"black\")\n",
    "p.vbar(df.Date[inc], w, df.AdjOpen[inc], df.AdjClose[inc], fill_color=\"#D5E1DD\", line_color=\"black\")\n",
    "p.vbar(df.Date[dec], w, df.AdjOpen[dec], df.AdjClose[dec], fill_color=\"#F2583E\", line_color=\"black\")\n",
    "\n",
    "show(p)  # open a browser\n"
   ]
  },
  {
   "cell_type": "markdown",
   "metadata": {},
   "source": [
    "### Custom package: Quandl API\n",
    "\n",
    "[Quandl](https://www.quandl.com/) is a financial data provider company, and much of their data is available as products (to buy). However, some are provided freely to the community.\n",
    "If you browse their data and choose a free on, ex: Zillow Home Value Index. There is a side menu that help you will the data through different libraries.\n",
    "\n",
    "* [Quandl API documentation](https://docs.quandl.com/)\n",
    "* [Quickstart page for python](https://www.quandl.com/tools/python)\n",
    "* [WIKI data](https://www.quandl.com/databases/WIKIP) is free stock data, it also gives you the API key in the documentation tab\n",
    "\n",
    "There is a wealth of other free data:\n",
    "* [Search for free data](https://www.quandl.com/search?query=&filter[]=Free)\n",
    "* [Free data from Zillow: Percent of homes decreasing in value -Bardstown, KY](https://www.quandl.com/data/ZILLOW/M632_PHDVAH-Zillow-Home-Value-Index-Metro-Percent-Of-Homes-Decreasing-In-Values-All-Homes-Bardstown-KY)\n",
    "* On the right-side menu under \"EXPORT DATA\", locate the link for \"python\"\n",
    "* My code reads something like `quandl.get(\"ZILLOW/M632_PHDVAH\", authtoken=\"...myapikey...\")`"
   ]
  },
  {
   "cell_type": "markdown",
   "metadata": {},
   "source": [
    "To downloan the myapikeys into your directoy, use \n",
    "\n",
    "\n",
    "(wget https://gist.githubusercontent.com/syoh/639d1db55370937465c09d0f5732b68d/raw/47ed2fec0f621a2cc163ccf210bb20666f4ec19f/myapikeys.py) \n",
    "in your terminal under the file directory you want the file to be."
   ]
  },
  {
   "cell_type": "code",
   "execution_count": null,
   "metadata": {},
   "outputs": [],
   "source": [
    "import myapikeys as m # my api keys are saved here\n",
    "# remember to put the myapikeys.txt into the same file with this notebook\n",
    "import quandl\n",
    "## API key is needed\n",
    "out = quandl.get(\"ZILLOW/M632_PHDVAH\", authtoken=m.apikeys['quandl'])\n",
    "out.head()"
   ]
  },
  {
   "cell_type": "code",
   "execution_count": null,
   "metadata": {},
   "outputs": [],
   "source": [
    "p = figure(x_axis_type=\"datetime\", \n",
    "           plot_width=750, plot_height=400, \n",
    "           title = \"Zillow: Proportion of homes decreasing in value\")\n",
    "p.line(out.index.values, out.Value)\n",
    "\n",
    "show(p)"
   ]
  },
  {
   "cell_type": "code",
   "execution_count": null,
   "metadata": {},
   "outputs": [],
   "source": [
    "quandl.ApiConfig.api_key = None\n",
    "quandl.ApiConfig.api_key = m.apikeys['quandl']\n",
    "\n",
    "# get the table for daily stock prices and,\n",
    "# filter the table for selected tickers, columns within a time range\n",
    "# set paginate to True because Quandl limits tables API to 10,000 rows per call\n",
    "\n",
    "symbols = ['AA','AXP','BA','BAC','CAT',\n",
    "           'CSCO','CVX','DD','DIS','GE',\n",
    "           'HD','HPQ','IBM','INTC','JNJ',\n",
    "           'JPM','KFT','KO','MCD','MMM',\n",
    "           'MRK','MSFT','PFE','PG','T',\n",
    "           'TRV','UTX','VZ','WMT','XOM']\n",
    "\n",
    "data = quandl.get_table('WIKI/PRICES', ticker = symbols, \n",
    "                        qopts = { 'columns': ['ticker', 'date', 'adj_close'] }, \n",
    "                        date = { 'gte': '2015-12-31', 'lte': '2016-12-31' }, \n",
    "                        paginate=True)\n",
    "data.tail()"
   ]
  },
  {
   "cell_type": "markdown",
   "metadata": {},
   "source": [
    "### Custom package: Yelp API\n",
    "\n",
    "[Yelp](https://www.yelp.com/developers/documentation/v3) needs no introduction. Yelp allows applications to programmatically interact with their data. The table of [endpoints](https://www.yelp.com/developers/documentation/v3/get_started) outlines how you can query their site. For example, if you wanted to search for different businesses, you can use [`business_search`](https://www.yelp.com/developers/documentation/v3/business_search) endpoint.\n",
    "\n",
    "In order to use Yelp's API, you need an API key. API keys can be thought of as a key string for both login and password. Usually API keys can be revoked; however, until revoked, they can be used as your login credentials, so be careful how you store them: e.g., do not store it on a public github repository!\n",
    "\n",
    "Yelp's python package can be used if using python as programming language: [github](https://github.com/Yelp/yelp-fusion#code-samples). This facilitates having to deal with web page protocols: i.e., you don't have to construct a GET URL string and use `wget`!\n",
    "\n",
    "* [Interface libraries](https://github.com/Yelp/yelp-fusion/tree/master/fusion) for different backends\n",
    "* [Yelp python example](https://github.com/Yelp/yelp-fusion/blob/master/fusion/python/sample.py) for accessing Yelp's data"
   ]
  },
  {
   "cell_type": "code",
   "execution_count": null,
   "metadata": {},
   "outputs": [],
   "source": [
    "## sample is sample.py from \n",
    "## https://github.com/Yelp/yelp-fusion/blob/master/fusion/python/sample.py\n",
    "import sample as s"
   ]
  },
  {
   "cell_type": "markdown",
   "metadata": {},
   "source": [
    "This local module is a sample python file available from [Yelp's own repository](https://github.com/Yelp/yelp-fusion/blob/master/fusion/python/sample.py)."
   ]
  },
  {
   "cell_type": "code",
   "execution_count": null,
   "metadata": {},
   "outputs": [],
   "source": [
    "#try run this line to see the file\n",
    "#! cat sample.py"
   ]
  },
  {
   "cell_type": "markdown",
   "metadata": {},
   "source": [
    "Note the functions calling `requests.request('GET', url, ...)`. This line is essentially doing what `wget` was doing but with functions in python.\n",
    "\n",
    "Let's search for \"restaurants\" in \"isla vista, ca\""
   ]
  },
  {
   "cell_type": "code",
   "execution_count": null,
   "metadata": {},
   "outputs": [],
   "source": [
    "## API key is needed\n",
    "s.API_KEY = m.apikeys['yelp']\n",
    "s.query_api('restaurants','isla vista, ca')"
   ]
  },
  {
   "cell_type": "markdown",
   "metadata": {},
   "source": [
    "Search limit defaults to 3; we can change it to 10. Then search for your favorite food:"
   ]
  },
  {
   "cell_type": "code",
   "execution_count": null,
   "metadata": {},
   "outputs": [],
   "source": [
    "s.SEARCH_LIMIT = 10 ## otherwise defaults to 3 results\n",
    "out = s.search(s.API_KEY, 'mexican', 'goleta, ca');\n",
    "#out"
   ]
  },
  {
   "cell_type": "markdown",
   "metadata": {},
   "source": [
    "### Custom package: FRED API\n",
    "\n",
    "[Federal Reserve Economic Data (FRED)](https://fred.stlouisfed.org/) provides extensive economic data. \n",
    "\n",
    "* [API documentation](https://research.stlouisfed.org/docs/api/) including other offerings\n",
    "* [GeoFRED](https://geofred.stlouisfed.org/)\n",
    "* [FRED documentation](APIhttps://research.stlouisfed.org/docs/api/fred)\n",
    "* [Third-party python package for FRED](https://github.com/avelkoski/FRB)\n",
    "\n",
    "Some providers may offer a package that is not already installed. Some packages can be installed to your user directory: `pip install --user FRB` run this line in your terminal\n",
    "\n",
    "After installing and optaining an API key, data can be retrieved using the library. Following retrieves from [this page](https://research.stlouisfed.org/docs/api/fred/category_series.html)."
   ]
  },
  {
   "cell_type": "code",
   "execution_count": null,
   "metadata": {},
   "outputs": [],
   "source": [
    "import json\n",
    "from fred import Fred\n",
    "\n",
    "## API key is needed\n",
    "fr = Fred(api_key=m.apikeys['fred'], response_type='dict')\n",
    "\n",
    "params = {\n",
    "         'limit':2,\n",
    "         'tag_names':'trade;goods'\n",
    "         }\n",
    "\n",
    "res = fr.category.series(125, params=params)\n",
    "\n",
    "res\n"
   ]
  },
  {
   "cell_type": "markdown",
   "metadata": {},
   "source": [
    "Let's download [real gross domestic product series](https://fred.stlouisfed.org/series/A191RL1Q225SBEA) using the installed API."
   ]
  },
  {
   "cell_type": "code",
   "execution_count": null,
   "metadata": {},
   "outputs": [],
   "source": [
    "params = {\n",
    "    'realtime_start':'1947-04-01', \n",
    "    'realtime_end':'2018-01-01'\n",
    "}\n",
    "out = fr.series.observations('A191RL1Q225SBEA', response_type='df', \n",
    "                         params=params)\n",
    "#out"
   ]
  },
  {
   "cell_type": "code",
   "execution_count": null,
   "metadata": {},
   "outputs": [],
   "source": [
    "p = figure(x_axis_type=\"datetime\", \n",
    "           plot_width=750, plot_height=400, \n",
    "           title = \"Real gross domestic product series\")\n",
    "p.line(out.date, out.value)\n",
    "\n",
    "show(p)"
   ]
  }
 ],
 "metadata": {
  "language_info": {
   "name": "python",
   "pygments_lexer": "ipython3"
  }
 },
 "nbformat": 4,
 "nbformat_minor": 2
}
