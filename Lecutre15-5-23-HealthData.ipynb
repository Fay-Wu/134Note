{
 "cells": [
  {
   "cell_type": "markdown",
   "metadata": {},
   "source": [
    "# Lecture 15 - 5/23/ Health Data\n",
    "\n",
    "### Topic: Machine Learning\n",
    "\n",
    "Please refer to the notebook\" **2-Classifier-Construction.ipynb**.\n",
    "Same drill from last lecture. Please clone the evidation repository to your local jupyter hub.\n",
    "\n",
    "\n"
   ]
  },
  {
   "cell_type": "code",
   "execution_count": null,
   "metadata": {},
   "outputs": [],
   "source": []
  }
 ],
 "metadata": {
  "language_info": {
   "name": "python",
   "pygments_lexer": "ipython3"
  }
 },
 "nbformat": 4,
 "nbformat_minor": 2
}
