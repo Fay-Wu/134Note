{
 "cells": [
  {
   "cell_type": "markdown",
   "metadata": {},
   "source": [
    "# Lab2: Introduction to Shell for Data Science\n",
    "\n",
    "Outline\n",
    "1. Basic commands\n",
    "2. Manipulating data\n",
    "3. Combining tools\n",
    "4. Batch processing\n",
    "----\n",
    "Appendix: Regular expressions"
   ]
  },
  {
   "cell_type": "markdown",
   "metadata": {},
   "source": [
    "## 1. Basic commands\n",
    "\n",
    "Suppose you want to download a file from the web and place it in `/Labs/data/` where your `/Labs/` current directory. \n"
   ]
  },
  {
   "cell_type": "code",
   "execution_count": null,
   "metadata": {},
   "outputs": [],
   "source": [
    "# We can invoke shell commands within Jupyter notebook ! \n",
    "! pwd"
   ]
  },
  {
   "cell_type": "markdown",
   "metadata": {},
   "source": [
    "- We start by downloading a data file from the [UCI Machine Learning repository](https://archive.ics.uci.edu/ml/index.php). \n",
    "- To do so, we will use the `wget` command introduced in [Data collection and manipulation](https://github.com/UCSB-PSTAT-134-234/Spring-2018/blob/master/03-Data-collection-and-manipulation.ipynb)."
   ]
  },
  {
   "cell_type": "code",
   "execution_count": null,
   "metadata": {},
   "outputs": [],
   "source": [
    "! wget https://archive.ics.uci.edu/ml/machine-learning-databases/iris/iris.data"
   ]
  },
  {
   "cell_type": "markdown",
   "metadata": {},
   "source": [
    "We now make sure that the data has been successfully downloaded by using our basic navigation commands (`pwd`, `ls`, `cd`, etc)."
   ]
  },
  {
   "cell_type": "code",
   "execution_count": null,
   "metadata": {},
   "outputs": [],
   "source": [
    "! ls -F -l"
   ]
  },
  {
   "cell_type": "markdown",
   "metadata": {},
   "source": [
    "## 2. Manipulating data\n",
    "\n",
    "- The first thing most data scientists do when given a new dataset to analyze is figure out what fields it contains and what values those fields have. \n",
    "- If the dataset has been exported from a database or spreadsheet, it will often be stored as comma-separated values (CSV). \n",
    "- A quick way to figure out what it contains is to look at the first few rows.\n",
    "\n",
    "### Selecting rows from a file"
   ]
  },
  {
   "cell_type": "code",
   "execution_count": null,
   "metadata": {},
   "outputs": [],
   "source": [
    "# Prints entire contents of a file\n",
    "! cat iris.data"
   ]
  },
  {
   "cell_type": "code",
   "execution_count": null,
   "metadata": {},
   "outputs": [],
   "source": [
    "! head iris.data # show first ten lines"
   ]
  },
  {
   "cell_type": "code",
   "execution_count": null,
   "metadata": {},
   "outputs": [],
   "source": [
    "! tail iris.data # show last ten lines"
   ]
  },
  {
   "cell_type": "code",
   "execution_count": null,
   "metadata": {},
   "outputs": [],
   "source": [
    "# Given the information in the help file we can then display\n",
    "# all but the first 6 lines of the iris.data file\n",
    "! tail -n +6 iris.data"
   ]
  },
  {
   "cell_type": "markdown",
   "metadata": {},
   "source": [
    "### Selecting columns from a file\n",
    "\n",
    "`head` and `tail` let you select rows from a text file. If you want to select columns, you can use the command `cut`. "
   ]
  },
  {
   "cell_type": "code",
   "execution_count": null,
   "metadata": {},
   "outputs": [],
   "source": [
    "! cut -f 1-3,5 -d , iris.data # -f: \"fields\" , -d: \"delimiter\""
   ]
  },
  {
   "cell_type": "markdown",
   "metadata": {},
   "source": [
    "### Selecting lines containing particular values\n",
    "\n",
    "- `head` and `tail` select rows, `cut` selects columns.\n",
    "- `grep` selects lines according to what they contain. \n",
    "- In its simplest form, `grep` takes a piece of text followed by one or more filenames and prints all of the lines in those files that contain that text. \n",
    "\n",
    "For example, suppose we want to retrieve all lines containing the word \"setosa\": "
   ]
  },
  {
   "cell_type": "code",
   "execution_count": null,
   "metadata": {},
   "outputs": [],
   "source": [
    "! grep \"setosa\" iris.data"
   ]
  },
  {
   "cell_type": "markdown",
   "metadata": {},
   "source": [
    "###  `grep` command \n",
    "\n",
    "- The name \"grep\" stands for \"global regular expression print\". This means that grep can be used to see if the input it receives matches a specified pattern.\n",
    "\n",
    "- `grep` prints all of the lines from the `iris.data` that contain \"setosa\". It can search for patterns as well using [*regular expressions*](https://www.digitalocean.com/community/tutorials/using-grep-regular-expressions-to-search-for-text-patterns-in-linux); we will explore those later. \n",
    "\n",
    "What's more important right now is some of `grep`'s more common **flags**:\n",
    "\n",
    "`-c`: print a count of matching lines rather than the lines themselves\n",
    "\n",
    "`-h`: do not print the names of files when searching multiple files\n",
    "\n",
    "`-i`: ignore case (e.g., treat \"Regression\" and \"regression\" as matches)\n",
    "\n",
    "`-l`: print the names of files that contain matches, not the matches\n",
    "\n",
    "`-n`: print line numbers for matching lines\n",
    "\n",
    "`-v`: invert the match, i.e., only show lines that don't match"
   ]
  },
  {
   "cell_type": "code",
   "execution_count": null,
   "metadata": {},
   "outputs": [],
   "source": [
    "# best practices for grep is to place options/flags \n",
    "# before the pattern we are looking for:\n",
    "! grep -n -v \"setosa\" iris.data "
   ]
  },
  {
   "cell_type": "code",
   "execution_count": null,
   "metadata": {},
   "outputs": [],
   "source": [
    "! grep -c \"setosa\" iris.data"
   ]
  },
  {
   "cell_type": "markdown",
   "metadata": {},
   "source": [
    "## 3. Combining tools\n",
    "\n",
    "## Re-directing: store a command's output in a file\n",
    "\n",
    "- All of the tools you have seen so far let you name input files. Most don't have an option for naming an output file because they don't need one. \n",
    "- Instead, you can use redirection to save any command's output anywhere you want. "
   ]
  },
  {
   "cell_type": "code",
   "execution_count": null,
   "metadata": {},
   "outputs": [],
   "source": [
    "! grep \"setosa\" iris.data > setosa.csv"
   ]
  },
  {
   "cell_type": "code",
   "execution_count": null,
   "metadata": {},
   "outputs": [],
   "source": [
    "! ls"
   ]
  },
  {
   "cell_type": "markdown",
   "metadata": {},
   "source": [
    "We can then apply either of the above commands to the resulting file `setosa.csv`"
   ]
  },
  {
   "cell_type": "code",
   "execution_count": null,
   "metadata": {},
   "outputs": [],
   "source": [
    "# For example, select only first and last columns\n",
    "! cut -f 1,5 -d , setosa.csv"
   ]
  },
  {
   "cell_type": "markdown",
   "metadata": {},
   "source": [
    "## Piping: using one command's output as another command's input\n",
    "\n",
    "The shell provides another tool that solves both of these problems at once called a **pipe**. \n"
   ]
  },
  {
   "cell_type": "code",
   "execution_count": null,
   "metadata": {},
   "outputs": [],
   "source": [
    "# Option 1\n",
    "! grep \"setosa\" iris.data > setosa.csv\n",
    "! cut -f 1,5 -d , setosa.csv"
   ]
  },
  {
   "cell_type": "code",
   "execution_count": null,
   "metadata": {},
   "outputs": [],
   "source": [
    "# Option 2\n",
    "! grep \"setosa\" iris.data | cut -f 1,5 -d , "
   ]
  },
  {
   "cell_type": "markdown",
   "metadata": {},
   "source": [
    "The pipe symbol `|` tells the shell to use the output of the command on the left as the input to the command on the right."
   ]
  },
  {
   "cell_type": "code",
   "execution_count": null,
   "metadata": {},
   "outputs": [],
   "source": [
    "# Sort rows containing the word setosa according to the 4th \"numeric\" (-n)\n",
    "# key (field)\n",
    "! grep -n \"setosa\" iris.data | sort -n -k 4 --field-separator=',' | head -n 5"
   ]
  },
  {
   "cell_type": "markdown",
   "metadata": {},
   "source": [
    "## Pipes and re-direction\n",
    "\n",
    "The shell lets us redirect the output of a sequence of piped commands. However, `>` must appear at the end of the pipeline: if we try to use it in the middle, like this:"
   ]
  },
  {
   "cell_type": "code",
   "execution_count": null,
   "metadata": {},
   "outputs": [],
   "source": [
    "! grep -n \"setosa\" iris.data | sort -n -k 4 | head -n 5 > bottom5.csv"
   ]
  },
  {
   "cell_type": "markdown",
   "metadata": {},
   "source": [
    "## How can I stop a running program?\n",
    "\n",
    "The commands and scripts that you have run so far have all executed quickly, but some tasks will take minutes, hours, or even days to complete. \n",
    "\n",
    "You may also mistakenly put **redirection** in the middle of a **pipeline**, causing it to hang up. If you decide that you don't want a program to keep running, you can type `Ctrl-C` to end it. This is often written `^C` in Unix documentation; note that the 'c' can be lower-case."
   ]
  },
  {
   "cell_type": "markdown",
   "metadata": {},
   "source": [
    "# 4. Batch processing\n",
    "\n",
    "## Environment variables\n",
    "\n",
    "Like other programs, the shell stores information in variables. Some of these, called **environment variables**, are available all the time. Environment variables' names are conventionally written in upper case, and a few of the more commonly-used ones are shown below:\n",
    "\n",
    "Variable | Purpose | Value\n",
    "--- | --- | ---\n",
    "`HOME` | User's home directory | `/home/repl`\n",
    "`PWD` | Present working directory | Same as `pwd` command\n",
    "`SHELL` | Which shell program is being used | `/bin/bash`\n",
    "`USER` | User's `ID` | repl"
   ]
  },
  {
   "cell_type": "code",
   "execution_count": null,
   "metadata": {},
   "outputs": [],
   "source": [
    "# To get the entire list of environment variables use the set command\n",
    "! set"
   ]
  },
  {
   "cell_type": "markdown",
   "metadata": {},
   "source": [
    "To see the **variable value**, the simplest way is to use the `echo` command and the variable name preceded by the dollar sign `$`. For example:"
   ]
  },
  {
   "cell_type": "code",
   "execution_count": null,
   "metadata": {},
   "outputs": [],
   "source": [
    "! echo $SHELL "
   ]
  },
  {
   "cell_type": "markdown",
   "metadata": {},
   "source": [
    "## `for` loops\n",
    "\n",
    "- Suppose we want to subset `iris.data` in three files, each one containing the rows associated to a certain class (in this case `Iris-setosa`, `Iris-versicolor`, `Iris-virginica`). \n",
    "- A possible option would be to use `grep` and re-directing the output to a file using `>`. \n",
    "- Since the latter would involve repeating the same process three times, we can then replicate the same procedure more efficiently using a for loop."
   ]
  },
  {
   "cell_type": "code",
   "execution_count": null,
   "metadata": {},
   "outputs": [],
   "source": [
    "# Obtain iris flower types\n",
    "! cut -f 5 -d , iris.data | uniq "
   ]
  },
  {
   "cell_type": "markdown",
   "metadata": {},
   "source": [
    "We can create \"shell\" variables just as environment variables by \"redirecting\" de value of a command to a variable in LHS. Note that there are no spaces around the equal sign."
   ]
  },
  {
   "cell_type": "code",
   "execution_count": null,
   "metadata": {},
   "outputs": [],
   "source": [
    "%%bash  \n",
    "iris_type=$(cut -f 5 -d , iris.data | uniq)\n",
    "echo $iris_type"
   ]
  },
  {
   "cell_type": "code",
   "execution_count": null,
   "metadata": {},
   "outputs": [],
   "source": [
    "%%bash  \n",
    "iris_type=$(cut -f 5 -d , iris.data | uniq)\n",
    "for flower in $iris_type; do grep $flower iris.data > $flower.csv; done"
   ]
  },
  {
   "cell_type": "code",
   "execution_count": null,
   "metadata": {},
   "outputs": [],
   "source": [
    "! ls"
   ]
  },
  {
   "cell_type": "markdown",
   "metadata": {},
   "source": [
    "### The loop's parts are:\n",
    "\n",
    "The skeleton `for ...variable... in ...list...; ...body...; done`\n",
    "\n",
    "1. The list of things the loop is to process (in our case, the words Iris-setosa, Iris-versicolor, Iris-virginica accesses using `$iris_type`).\n",
    "2. The variable that keeps track of which thing the loop is currently processing (in our case, `flower`).\n",
    "3. The body of the loop that does the processing (in our case, `grep $flower iris.data > $flower.csv`).\n",
    "\n",
    "> Notice that the body uses `$flower` to get the variable's value instead of just suffix, just like it does with any other shell variable. Also notice where the semi-colons go: the first one comes between the list and the keyword do, and the second comes between the body and the keyword done."
   ]
  },
  {
   "cell_type": "markdown",
   "metadata": {},
   "source": [
    "----\n",
    "# Appendix: Regular Expressions\n",
    "\n",
    "1. Literal Matches\n",
    "2. Anchor Matches\n",
    "3. Matching Any Character\n",
    "4. Bracket Expressions\n",
    "5. Repeat Pattern Zero or More Times\n",
    "6. Escaping Meta-Characters"
   ]
  },
  {
   "cell_type": "markdown",
   "metadata": {},
   "source": [
    "Let's try an example. We will use grep to search for every line that contains the word \"GNU\" in the GNU General Public License version 3 on an Ubuntu system."
   ]
  },
  {
   "cell_type": "code",
   "execution_count": null,
   "metadata": {},
   "outputs": [],
   "source": [
    "! wget https://www.gnu.org/licenses/gpl.txt"
   ]
  },
  {
   "cell_type": "code",
   "execution_count": null,
   "metadata": {},
   "outputs": [],
   "source": [
    "! ls"
   ]
  },
  {
   "cell_type": "markdown",
   "metadata": {},
   "source": [
    " ## Literal Matches\n",
    "\n",
    "----\n",
    "- Patterns that exactly specify the characters to be matched are called \"literals\" because they match the pattern literally, character-for-character.\n",
    "- All alphabetic and numerical characters (as well as certain other characters) are matched literally unless modified by other expression mechanisms.\n",
    "\n",
    "\n"
   ]
  },
  {
   "cell_type": "code",
   "execution_count": null,
   "metadata": {},
   "outputs": [],
   "source": [
    "! grep \"GNU\" gpl.txt"
   ]
  },
  {
   "cell_type": "markdown",
   "metadata": {},
   "source": [
    "## Anchor Matches\n",
    "---\n",
    "- Anchors are special characters that specify where in the line a match must occur to be valid.\n",
    "\n"
   ]
  },
  {
   "cell_type": "code",
   "execution_count": null,
   "metadata": {},
   "outputs": [],
   "source": [
    "! grep \"^GNU\" gpl.txt"
   ]
  },
  {
   "cell_type": "code",
   "execution_count": null,
   "metadata": {},
   "outputs": [],
   "source": [
    "! grep \"and$\" gpl.txt"
   ]
  },
  {
   "cell_type": "markdown",
   "metadata": {},
   "source": [
    "## Matching Any Character\n",
    "---\n",
    "- The period character (.) is used in regular expressions to mean that any single character can exist at the specified location.\n",
    "\n",
    "- For example, if we want to match anything that has two characters and then the string \"cept\", we could use the following pattern:\n"
   ]
  },
  {
   "cell_type": "code",
   "execution_count": null,
   "metadata": {},
   "outputs": [],
   "source": [
    "! grep \"..cept\" gpl.txt"
   ]
  },
  {
   "cell_type": "markdown",
   "metadata": {},
   "source": [
    "## Bracket Expressions\n",
    "---\n",
    "- By placing a group of characters within brackets (\"[\" and \"]\"), we can specify that the character at that position can be any one character found within the bracket group.\n"
   ]
  },
  {
   "cell_type": "code",
   "execution_count": null,
   "metadata": {},
   "outputs": [],
   "source": [
    "!grep \"t[wo]o\" gpl.txt"
   ]
  },
  {
   "cell_type": "code",
   "execution_count": null,
   "metadata": {},
   "outputs": [],
   "source": [
    "!grep \"[^c]ode\" gpl.txt"
   ]
  },
  {
   "cell_type": "code",
   "execution_count": null,
   "metadata": {},
   "outputs": [],
   "source": [
    "!grep \"^[A-Z]\" gpl.txt"
   ]
  },
  {
   "cell_type": "markdown",
   "metadata": {},
   "source": [
    "## Repeat Pattern Zero or More Times\n",
    "---\n",
    "- Finally, one of the most commonly used meta-characters is the \"*\", which means \"repeat the previous character or expression zero or more times\".\n",
    "\n",
    "- If we wanted to find each line that contained an opening and closing parenthesis, with only letters and single spaces in between, we could use the following expression:\n"
   ]
  },
  {
   "cell_type": "code",
   "execution_count": null,
   "metadata": {},
   "outputs": [],
   "source": [
    "!grep \"([A-Za-z ]*)\" gpl.txt"
   ]
  },
  {
   "cell_type": "markdown",
   "metadata": {},
   "source": [
    "## Escaping Meta-Characters\n",
    "---\n",
    "Sometimes, we may want to search for a literal period or a literal opening bracket. Because these characters have special meaning in regular expressions, we need to \"escape\" these characters to tell grep that we do not wish to use their special meaning in this case.\n",
    "\n",
    "We can escape characters by using the backslash character (`\\`) before the character that would normally have a special meaning.\n",
    "\n",
    "For instance, if we want to find any line that begins with a capital letter and ends with a period, we could use the following expression. The ending period is escaped so that it represents a literal period instead of the usual \"any character\" meaning:\n"
   ]
  },
  {
   "cell_type": "code",
   "execution_count": null,
   "metadata": {},
   "outputs": [],
   "source": [
    "!grep \"^[A-Z].*\\.$\" gpl.txt"
   ]
  },
  {
   "cell_type": "markdown",
   "metadata": {},
   "source": [
    "# References\n",
    "\n",
    "1. [https://www.digitalocean.com/community/tutorials/using-grep-regular-expressions-to-search-for-text-patterns-in-linux](https://www.digitalocean.com/community/tutorials/using-grep-regular-expressions-to-search-for-text-patterns-in-linux)\n",
    "2. https://regexone.com/"
   ]
  }
 ],
 "metadata": {
  "language_info": {
   "name": "python",
   "pygments_lexer": "ipython3"
  }
 },
 "nbformat": 4,
 "nbformat_minor": 2
}
