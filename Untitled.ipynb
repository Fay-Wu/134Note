{
 "cells": [
  {
   "cell_type": "markdown",
   "metadata": {},
   "source": [
    "# Lecture 13 - HealthData Fitbit\n",
    "\n",
    "First clone the repository to your juypernotebook. https://github.com/evidation-health/EvidationDataScienceModule\n",
    "\n",
    "Then on your terminal, got to the folder of this clone and to util folder, That is\n",
    "\n",
    "`cd work`\n",
    "\n",
    "`cd EvidationDataScienceModule`\n",
    "\n",
    "`cd utils`\n",
    "\n",
    "Then you want to install this folder\n",
    "\n",
    "`./pull_nhanes_data.sh`\n",
    "\n",
    "After this is succesufully downloaded. You can go to the EvidationDataScienceModule folder and you will see a folder called `notebooks`. In this notebook, you will see a file names `0-ETL-Munging-QC.ipynb`. Open that.\n",
    "\n",
    "I'll have this file in the notes as well. But please try to do this on your own.\n"
   ]
  },
  {
   "cell_type": "code",
   "execution_count": null,
   "metadata": {},
   "outputs": [],
   "source": []
  }
 ],
 "metadata": {
  "language_info": {
   "name": "python",
   "pygments_lexer": "ipython3"
  }
 },
 "nbformat": 4,
 "nbformat_minor": 2
}
