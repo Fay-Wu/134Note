{
 "cells": [
  {
   "cell_type": "markdown",
   "metadata": {},
   "source": [
    "# Lecture 11 5/10 Markowitz Portfolio Covariance Estimation"
   ]
  },
  {
   "cell_type": "markdown",
   "metadata": {},
   "source": [
    "# Markowitz Portfolio Optimization\n",
    "\n",
    "We continue to consider the portfolio optimization problem. In the previous notebook, we found ways to compute the exptected return and volatility by computing the sample mean and covariance matrix of log-returns.\n",
    "\n",
    "## Backtesting\n",
    "\n",
    "Testing a portfolio selection strategy can be tested with what is called a backtesting strategy. At any given point in time $t$, one assumes the knowledge of *historical* data as given: $t-1, t-2, \\dots$. Any investment strategy is developed with historical data, and is tested with current and future data at times $t, t+1, t+2, \\dots$.\n",
    "\n",
    "Suppose we are currently at time $t$. We have recoreded returns $r_t^{(i)}$ for times $t-1, t-2, \\dots$ and stock $i=1,2,\\dots, s$. What we would like to compute are portfolio allocations: $w_{t}^{(i)}$ for all $i$.\n",
    "\n",
    "Then, we simulate earning the returns on future returns data (while holding our portfolio constant for a time period of $T$). Suppose we have computed $w_{t}=(w_{t}^{(1)}, w_{t}^{(2)}, \\dots, w_{t}^{(s)})^\\intercal$ based on historical data. The earnings we make on investing with this strategy is\n",
    "$$ r_{p,k} = r_k^\\intercal w_t,  $$\n",
    "where $k=t, t+1,\\dots t+T$ and $r_k = (r_t^{(i)}, r_t^{(i)}, \\dots, r_t^{(i)})^\\intercal $.\n",
    "\n",
    "Note that the earnings is proportional to the net worth (dollar amount of the portfolio). So, let $W_{t}$ be the net worth of the portfolio at time $t$. Then, given $W_t$, and the portfolio at $w_t$, portfolio at next time period is worth $W_{t+1}$. Suppose for some time $k\\in [t, t+T]$,\n",
    "$$ W_{k+1} = W_k \\cdot (1 + r_k^\\intercal w_t) $$ \n",
    "\n",
    "\n",
    "## Dealing with timeseries data and non-stationarity\n",
    "\n",
    "In our previous notebook, we implicitly assumed that the market is stationary. Also, we used *all* data when computing $\\mu$ and $\\Sigma$. However, at any given point in time $t$, we only have the *past* data at our disposal, and we don't want to use data from too far back due to non-stationarity: i.e., the market probably has changed since then.\n",
    "\n",
    "Note that previously we used *all* available data to compute $\\mu$ and $\\Sigma$ estimates. The problem setup assumes that the returns are coming from a single Gaussian distribution. (Recall that we need to supply estimates of these parameters as input to optimization problem.)\n",
    "\n",
    "There are two opposing forces here:\n",
    "* Non-stationarity of the market imply that most recent data is most relevant\n",
    "* Statistical estimation is more stable when we use more historical data\n",
    "\n",
    "Dealing with non-stationarity when using a method that assumes stationarity is challenging. However, in a sufficiently short period of time, we hope that stationarity assumption is approximately true. So, we can decide on a set of choices for fixed value of $N$: the number of historical datapoints to use for estimation of $\\mu_t$ and $\\Sigma_t$.\n",
    "\n"
   ]
  },
  {
   "cell_type": "code",
   "execution_count": null,
   "metadata": {},
   "outputs": [],
   "source": [
    "%matplotlib inline\n",
    "import matplotlib.pyplot as plt\n",
    "import pandas as pd\n",
    "import numpy as np\n",
    "import pickle\n",
    "import cvxpy as cvx"
   ]
  },
  {
   "cell_type": "code",
   "execution_count": null,
   "metadata": {},
   "outputs": [],
   "source": [
    "data = pickle.load(open(\"dowjones_data.pkl\", \"rb\")).set_index('date')\n",
    "data = data['2000-01-03':'2017-08-31']\n",
    "data = data.drop(['DWDP'])\n",
    "datawide = data.reset_index().pivot(index='date',columns='ticker',values='adj_close')\n",
    "datawide.head()"
   ]
  },
  {
   "cell_type": "code",
   "execution_count": null,
   "metadata": {},
   "outputs": [],
   "source": [
    "logret = np.log(datawide).diff()\n",
    "logret.head()"
   ]
  },
  {
   "cell_type": "code",
   "execution_count": null,
   "metadata": {},
   "outputs": [],
   "source": [
    "mu = logret[1:].mean()\n",
    "mu"
   ]
  },
  {
   "cell_type": "code",
   "execution_count": null,
   "metadata": {},
   "outputs": [],
   "source": [
    "sigma = logret.cov()\n",
    "sigma"
   ]
  },
  {
   "cell_type": "markdown",
   "metadata": {},
   "source": [
    "### Functions for portfolio allocation"
   ]
  },
  {
   "cell_type": "code",
   "execution_count": null,
   "metadata": {},
   "outputs": [],
   "source": [
    "def compute_mvp(mu, sigma):\n",
    "    \n",
    "    import cvxpy as cvx\n",
    "    \n",
    "    s, _ = sigma.shape\n",
    "\n",
    "    w = cvx.Variable(s)\n",
    "    risk = cvx.quad_form(w, sigma.as_matrix())\n",
    "    prob = cvx.Problem(cvx.Minimize(risk), \n",
    "                   [cvx.sum_entries(w) == 1])\n",
    "    prob.solve()\n",
    "    \n",
    "    return(w.value)\n",
    "\n",
    "def compute_pf(mu, sigma, mu_star=-1):\n",
    "\n",
    "    import cvxpy as cvx\n",
    "\n",
    "    s, _ = sigma.shape\n",
    "\n",
    "    w = cvx.Variable(s)\n",
    "    risk = cvx.quad_form(w, sigma.as_matrix())\n",
    "    prob = cvx.Problem(cvx.Minimize(risk), \n",
    "                   [\n",
    "                       cvx.sum_entries(w) == 1,\n",
    "                       mu.as_matrix()*w >= mu_star\n",
    "                   ])\n",
    "    prob.solve()\n",
    "    \n",
    "    return(w.value)\n",
    "\n",
    "compute_mvp(mu, sigma).squeeze()- compute_pf(mu, sigma).squeeze()"
   ]
  },
  {
   "cell_type": "markdown",
   "metadata": {},
   "source": [
    "### Rolling apply for periodic application of functions\n",
    "\n",
    "To illustrate the usage of rolling-apply, let's create a data frame:"
   ]
  },
  {
   "cell_type": "code",
   "execution_count": null,
   "metadata": {},
   "outputs": [],
   "source": [
    "x = pd.DataFrame(np.reshape(np.arange(0, 100), (20,5)))\n",
    "x.head()"
   ]
  },
  {
   "cell_type": "markdown",
   "metadata": {},
   "source": [
    "`rolling()` is a series or dataframe method and apply takes the function and any additional arguments."
   ]
  },
  {
   "cell_type": "code",
   "execution_count": null,
   "metadata": {},
   "outputs": [],
   "source": [
    "def myf(ind, **kwargs):\n",
    "    ind = ind.astype('int')\n",
    "    df = kwargs['df']\n",
    "    print('ind:', ind)\n",
    "    print('')\n",
    "    print('df:', df.iloc[ind,:].as_matrix())\n",
    "    print('')\n",
    "    #print('here', df.loc[ind])\n",
    "    #return(kwargs['df'][ind].shape[0])\n",
    "    return(0)\n",
    "\n",
    "asdf = x.index.to_series().rolling(3, center=True).apply(myf, kwargs={'df': x})"
   ]
  },
  {
   "cell_type": "markdown",
   "metadata": {},
   "source": [
    "### Using rolling apply to compute $\\mu_t$ and $\\Sigma_t$\n",
    "\n",
    "Now we can apply it to our real dataset."
   ]
  },
  {
   "cell_type": "code",
   "execution_count": null,
   "metadata": {},
   "outputs": [],
   "source": [
    "def compute_returns(dw):\n",
    "    \"\"\"Compute log returns\n",
    "    \"\"\"\n",
    "    from numpy import log\n",
    "    \n",
    "    return(log(dw).diff())\n",
    "\n",
    "def myf2(ind, **kwargs):\n",
    "    \n",
    "    ind = ind.astype('int')\n",
    "    df = kwargs['df']\n",
    "    \n",
    "    \n",
    "    logret = compute_returns(df.iloc[ind])\n",
    "   \n",
    "    #####\n",
    "    # use datetime to re-estimate every 20 days or so using the index \n",
    "    mu = logret.mean()\n",
    "    sigma = logret.cov()\n",
    "    \n",
    "    print('ind:', df.index.to_series()[ind[0]])\n",
    "    print('AAPL mu:', mu['AAPL'])\n",
    "    print('AAPL sigma^2:', sigma.loc['AAPL', 'AAPL'], '\\n')\n",
    "    \n",
    "    # weights = compute_mvp(mu, sigma)\n",
    "    #####\n",
    "    \n",
    "    return(0)\n",
    "\n",
    "dw = datawide[1:100]\n",
    "\n",
    "## additional parameters\n",
    "kw = {\n",
    "    'df': dw,\n",
    "    'date': dw.index.to_series(),\n",
    "     }\n",
    "\n",
    "n, p = dw.shape\n",
    "\n",
    "output = pd.Series(np.arange(0, n)).rolling(30, center=True).apply(myf2, kwargs=kw)"
   ]
  }
 ],
 "metadata": {
  "language_info": {
   "name": "python",
   "pygments_lexer": "ipython3"
  }
 },
 "nbformat": 4,
 "nbformat_minor": 2
}
